{
  "nbformat": 4,
  "nbformat_minor": 0,
  "metadata": {
    "colab": {
      "provenance": []
    },
    "kernelspec": {
      "name": "python3",
      "display_name": "Python 3"
    },
    "language_info": {
      "name": "python"
    }
  },
  "cells": [
    {
      "cell_type": "code",
      "execution_count": null,
      "metadata": {
        "id": "B36GkoELwnp0"
      },
      "outputs": [],
      "source": [
        "%load_ext sql"
      ]
    },
    {
      "cell_type": "code",
      "source": [
        "import csv, sqlite3\n",
        "con = sqlite3.connect(\"FinalDB.db\")\n",
        "cur = con.cursor()\n",
        "!pip install -q pandas==1.3.5"
      ],
      "metadata": {
        "colab": {
          "base_uri": "https://localhost:8080/"
        },
        "id": "f5G8AeuYwylT",
        "outputId": "db477f13-73be-46f0-a134-e3a082a3c164"
      },
      "execution_count": null,
      "outputs": [
        {
          "output_type": "stream",
          "name": "stdout",
          "text": [
            "\u001b[?25l     \u001b[90m━━━━━━━━━━━━━━━━━━━━━━━━━━━━━━━━━━━━━━━━\u001b[0m \u001b[32m0.0/11.5 MB\u001b[0m \u001b[31m?\u001b[0m eta \u001b[36m-:--:--\u001b[0m\r\u001b[2K     \u001b[91m╸\u001b[0m\u001b[90m━━━━━━━━━━━━━━━━━━━━━━━━━━━━━━━━━━━━━━━\u001b[0m \u001b[32m0.2/11.5 MB\u001b[0m \u001b[31m7.1 MB/s\u001b[0m eta \u001b[36m0:00:02\u001b[0m\r\u001b[2K     \u001b[91m━━━━━━━\u001b[0m\u001b[91m╸\u001b[0m\u001b[90m━━━━━━━━━━━━━━━━━━━━━━━━━━━━━━━━\u001b[0m \u001b[32m2.2/11.5 MB\u001b[0m \u001b[31m29.8 MB/s\u001b[0m eta \u001b[36m0:00:01\u001b[0m\r\u001b[2K     \u001b[91m━━━━━━━━━━━━━━━━━━━━━━━━━\u001b[0m\u001b[90m╺\u001b[0m\u001b[90m━━━━━━━━━━━━━━\u001b[0m \u001b[32m7.3/11.5 MB\u001b[0m \u001b[31m67.5 MB/s\u001b[0m eta \u001b[36m0:00:01\u001b[0m\r\u001b[2K     \u001b[91m━━━━━━━━━━━━━━━━━━━━━━━━━━━━━━━━━━━━━━\u001b[0m\u001b[91m╸\u001b[0m \u001b[32m11.5/11.5 MB\u001b[0m \u001b[31m136.7 MB/s\u001b[0m eta \u001b[36m0:00:01\u001b[0m\r\u001b[2K     \u001b[91m━━━━━━━━━━━━━━━━━━━━━━━━━━━━━━━━━━━━━━\u001b[0m\u001b[91m╸\u001b[0m \u001b[32m11.5/11.5 MB\u001b[0m \u001b[31m136.7 MB/s\u001b[0m eta \u001b[36m0:00:01\u001b[0m\r\u001b[2K     \u001b[90m━━━━━━━━━━━━━━━━━━━━━━━━━━━━━━━━━━━━━━━━\u001b[0m \u001b[32m11.5/11.5 MB\u001b[0m \u001b[31m72.2 MB/s\u001b[0m eta \u001b[36m0:00:00\u001b[0m\n",
            "\u001b[?25h"
          ]
        }
      ]
    },
    {
      "cell_type": "code",
      "source": [
        "%sql sqlite:///FinalDB.db"
      ],
      "metadata": {
        "id": "SgLL4zyVxKG1"
      },
      "execution_count": null,
      "outputs": []
    },
    {
      "cell_type": "code",
      "source": [
        "import pandas as pd\n",
        "df = pd.read_csv('/content/ChicagoCrimeData.csv')"
      ],
      "metadata": {
        "id": "bDFw-MiuxM-q"
      },
      "execution_count": null,
      "outputs": []
    },
    {
      "cell_type": "code",
      "source": [
        "df_census = pd.read_csv('/content/ChicagoCensusData.csv')\n",
        "df_school = pd.read_csv('/content/ChicagoPublicSchools.csv')"
      ],
      "metadata": {
        "id": "JHAAGuUS0Nec"
      },
      "execution_count": 14,
      "outputs": []
    },
    {
      "cell_type": "code",
      "source": [
        "df.to_sql(\"ChicagoCrimeData\", con, if_exists='replace', index=False,method=\"multi\")\n"
      ],
      "metadata": {
        "colab": {
          "base_uri": "https://localhost:8080/"
        },
        "id": "yIKntWmsxdbg",
        "outputId": "8565b24d-f1f7-4d7a-91c0-1e137db99165"
      },
      "execution_count": 34,
      "outputs": [
        {
          "output_type": "execute_result",
          "data": {
            "text/plain": [
              "533"
            ]
          },
          "metadata": {},
          "execution_count": 34
        }
      ]
    },
    {
      "cell_type": "code",
      "source": [
        "df_census.to_sql(\"ChicagoCensusData\", con, if_exists='replace', index=False,method=\"multi\")\n",
        "df_school.to_sql(\"ChicagoPublicSchoolsData\", con, if_exists='replace', index=False,method=\"multi\")"
      ],
      "metadata": {
        "colab": {
          "base_uri": "https://localhost:8080/"
        },
        "id": "dlA1S4FY0miu",
        "outputId": "b9ccb384-3ae5-46f1-9079-be4a38d959c2"
      },
      "execution_count": 35,
      "outputs": [
        {
          "output_type": "execute_result",
          "data": {
            "text/plain": [
              "566"
            ]
          },
          "metadata": {},
          "execution_count": 35
        }
      ]
    },
    {
      "cell_type": "code",
      "source": [
        "df_census.info()\n"
      ],
      "metadata": {
        "colab": {
          "base_uri": "https://localhost:8080/"
        },
        "id": "AQ4zKj790mw6",
        "outputId": "945c4ff3-d4c1-470e-916d-5c0b50010d98"
      },
      "execution_count": 36,
      "outputs": [
        {
          "output_type": "stream",
          "name": "stdout",
          "text": [
            "<class 'pandas.core.frame.DataFrame'>\n",
            "RangeIndex: 78 entries, 0 to 77\n",
            "Data columns (total 9 columns):\n",
            " #   Column                                        Non-Null Count  Dtype  \n",
            "---  ------                                        --------------  -----  \n",
            " 0   COMMUNITY_AREA_NUMBER                         77 non-null     float64\n",
            " 1   COMMUNITY_AREA_NAME                           78 non-null     object \n",
            " 2   PERCENT_OF_HOUSING_CROWDED                    78 non-null     float64\n",
            " 3   PERCENT_HOUSEHOLDS_BELOW_POVERTY              78 non-null     float64\n",
            " 4   PERCENT_AGED_16__UNEMPLOYED                   78 non-null     float64\n",
            " 5   PERCENT_AGED_25__WITHOUT_HIGH_SCHOOL_DIPLOMA  78 non-null     float64\n",
            " 6   PERCENT_AGED_UNDER_18_OR_OVER_64              78 non-null     float64\n",
            " 7   PER_CAPITA_INCOME                             78 non-null     int64  \n",
            " 8   HARDSHIP_INDEX                                77 non-null     float64\n",
            "dtypes: float64(7), int64(1), object(1)\n",
            "memory usage: 5.6+ KB\n"
          ]
        }
      ]
    },
    {
      "cell_type": "code",
      "source": [
        "df_school.info()"
      ],
      "metadata": {
        "colab": {
          "base_uri": "https://localhost:8080/"
        },
        "id": "oTNPVtWO36Ej",
        "outputId": "b3b18824-2150-41fb-d91c-82d82df7c2a2"
      },
      "execution_count": 46,
      "outputs": [
        {
          "output_type": "stream",
          "name": "stdout",
          "text": [
            "<class 'pandas.core.frame.DataFrame'>\n",
            "RangeIndex: 566 entries, 0 to 565\n",
            "Data columns (total 78 columns):\n",
            " #   Column                                            Non-Null Count  Dtype  \n",
            "---  ------                                            --------------  -----  \n",
            " 0   School_ID                                         566 non-null    int64  \n",
            " 1   NAME_OF_SCHOOL                                    566 non-null    object \n",
            " 2   Elementary, Middle, or High School                566 non-null    object \n",
            " 3   Street_Address                                    566 non-null    object \n",
            " 4   City                                              566 non-null    object \n",
            " 5   State                                             566 non-null    object \n",
            " 6   ZIP_Code                                          566 non-null    int64  \n",
            " 7   Phone_Number                                      566 non-null    object \n",
            " 8   Link                                              565 non-null    object \n",
            " 9   Network_Manager                                   566 non-null    object \n",
            " 10  Collaborative_Name                                566 non-null    object \n",
            " 11  Adequate_Yearly_Progress_Made_                    566 non-null    object \n",
            " 12  Track_Schedule                                    566 non-null    object \n",
            " 13  CPS_Performance_Policy_Status                     566 non-null    object \n",
            " 14  CPS_Performance_Policy_Level                      566 non-null    object \n",
            " 15  HEALTHY_SCHOOL_CERTIFIED                          566 non-null    object \n",
            " 16  Safety_Icon                                       566 non-null    object \n",
            " 17  SAFETY_SCORE                                      513 non-null    float64\n",
            " 18  Family_Involvement_Icon                           566 non-null    object \n",
            " 19  Family_Involvement_Score                          566 non-null    object \n",
            " 20  Environment_Icon                                  566 non-null    object \n",
            " 21  Environment_Score                                 513 non-null    float64\n",
            " 22  Instruction_Icon                                  566 non-null    object \n",
            " 23  Instruction_Score                                 513 non-null    float64\n",
            " 24  Leaders_Icon                                      566 non-null    object \n",
            " 25  Leaders_Score                                     566 non-null    object \n",
            " 26  Teachers_Icon                                     566 non-null    object \n",
            " 27  Teachers_Score                                    566 non-null    object \n",
            " 28  Parent_Engagement_Icon                            566 non-null    object \n",
            " 29  Parent_Engagement_Score                           566 non-null    object \n",
            " 30  Parent_Environment_Icon                           566 non-null    object \n",
            " 31  Parent_Environment_Score                          566 non-null    object \n",
            " 32  AVERAGE_STUDENT_ATTENDANCE                        565 non-null    object \n",
            " 33  Rate_of_Misconducts__per_100_students_            566 non-null    float64\n",
            " 34  Average_Teacher_Attendance                        566 non-null    object \n",
            " 35  Individualized_Education_Program_Compliance_Rate  566 non-null    object \n",
            " 36  Pk_2_Literacy__                                   566 non-null    object \n",
            " 37  Pk_2_Math__                                       566 non-null    object \n",
            " 38  Gr3_5_Grade_Level_Math__                          566 non-null    object \n",
            " 39  Gr3_5_Grade_Level_Read__                          566 non-null    object \n",
            " 40  Gr3_5_Keep_Pace_Read__                            566 non-null    object \n",
            " 41  Gr3_5_Keep_Pace_Math__                            566 non-null    object \n",
            " 42  Gr6_8_Grade_Level_Math__                          566 non-null    object \n",
            " 43  Gr6_8_Grade_Level_Read__                          566 non-null    object \n",
            " 44  Gr6_8_Keep_Pace_Math_                             566 non-null    object \n",
            " 45  Gr6_8_Keep_Pace_Read__                            566 non-null    object \n",
            " 46  Gr_8_Explore_Math__                               566 non-null    object \n",
            " 47  Gr_8_Explore_Read__                               566 non-null    object \n",
            " 48  ISAT_Exceeding_Math__                             476 non-null    float64\n",
            " 49  ISAT_Exceeding_Reading__                          476 non-null    float64\n",
            " 50  ISAT_Value_Add_Math                               468 non-null    float64\n",
            " 51  ISAT_Value_Add_Read                               468 non-null    float64\n",
            " 52  ISAT_Value_Add_Color_Math                         566 non-null    object \n",
            " 53  ISAT_Value_Add_Color_Read                         566 non-null    object \n",
            " 54  Students_Taking__Algebra__                        566 non-null    object \n",
            " 55  Students_Passing__Algebra__                       566 non-null    object \n",
            " 56  9th Grade EXPLORE (2009)                          566 non-null    object \n",
            " 57  9th Grade EXPLORE (2010)                          566 non-null    object \n",
            " 58  10th Grade PLAN (2009)                            566 non-null    object \n",
            " 59  10th Grade PLAN (2010)                            566 non-null    object \n",
            " 60  Net_Change_EXPLORE_and_PLAN                       566 non-null    object \n",
            " 61  11th Grade Average ACT (2011)                     566 non-null    object \n",
            " 62  Net_Change_PLAN_and_ACT                           566 non-null    object \n",
            " 63  College_Eligibility__                             566 non-null    object \n",
            " 64  Graduation_Rate__                                 566 non-null    object \n",
            " 65  College_Enrollment_Rate__                         566 non-null    object \n",
            " 66  COLLEGE_ENROLLMENT                                566 non-null    int64  \n",
            " 67  General_Services_Route                            566 non-null    int64  \n",
            " 68  Freshman_on_Track_Rate__                          566 non-null    object \n",
            " 69  X_COORDINATE                                      566 non-null    float64\n",
            " 70  Y_COORDINATE                                      566 non-null    float64\n",
            " 71  Latitude                                          566 non-null    float64\n",
            " 72  Longitude                                         566 non-null    float64\n",
            " 73  COMMUNITY_AREA_NUMBER                             566 non-null    int64  \n",
            " 74  COMMUNITY_AREA_NAME                               566 non-null    object \n",
            " 75  Ward                                              566 non-null    int64  \n",
            " 76  Police_District                                   566 non-null    int64  \n",
            " 77  Location                                          566 non-null    object \n",
            "dtypes: float64(12), int64(7), object(59)\n",
            "memory usage: 345.0+ KB\n"
          ]
        }
      ]
    },
    {
      "cell_type": "code",
      "source": [
        "df_census.head()"
      ],
      "metadata": {
        "colab": {
          "base_uri": "https://localhost:8080/",
          "height": 270
        },
        "id": "Amf8TTkd05ZJ",
        "outputId": "75203da7-9950-4109-a6fb-9f420db2be6e"
      },
      "execution_count": 37,
      "outputs": [
        {
          "output_type": "execute_result",
          "data": {
            "text/plain": [
              "   COMMUNITY_AREA_NUMBER COMMUNITY_AREA_NAME  PERCENT_OF_HOUSING_CROWDED  \\\n",
              "0                    1.0         Rogers Park                         7.7   \n",
              "1                    2.0          West Ridge                         7.8   \n",
              "2                    3.0              Uptown                         3.8   \n",
              "3                    4.0      Lincoln Square                         3.4   \n",
              "4                    5.0        North Center                         0.3   \n",
              "\n",
              "   PERCENT_HOUSEHOLDS_BELOW_POVERTY  PERCENT_AGED_16__UNEMPLOYED  \\\n",
              "0                              23.6                          8.7   \n",
              "1                              17.2                          8.8   \n",
              "2                              24.0                          8.9   \n",
              "3                              10.9                          8.2   \n",
              "4                               7.5                          5.2   \n",
              "\n",
              "   PERCENT_AGED_25__WITHOUT_HIGH_SCHOOL_DIPLOMA  \\\n",
              "0                                          18.2   \n",
              "1                                          20.8   \n",
              "2                                          11.8   \n",
              "3                                          13.4   \n",
              "4                                           4.5   \n",
              "\n",
              "   PERCENT_AGED_UNDER_18_OR_OVER_64  PER_CAPITA_INCOME  HARDSHIP_INDEX  \n",
              "0                              27.5              23939            39.0  \n",
              "1                              38.5              23040            46.0  \n",
              "2                              22.2              35787            20.0  \n",
              "3                              25.5              37524            17.0  \n",
              "4                              26.2              57123             6.0  "
            ],
            "text/html": [
              "\n",
              "  <div id=\"df-2ee9c804-1003-494c-b629-44e3a5828699\">\n",
              "    <div class=\"colab-df-container\">\n",
              "      <div>\n",
              "<style scoped>\n",
              "    .dataframe tbody tr th:only-of-type {\n",
              "        vertical-align: middle;\n",
              "    }\n",
              "\n",
              "    .dataframe tbody tr th {\n",
              "        vertical-align: top;\n",
              "    }\n",
              "\n",
              "    .dataframe thead th {\n",
              "        text-align: right;\n",
              "    }\n",
              "</style>\n",
              "<table border=\"1\" class=\"dataframe\">\n",
              "  <thead>\n",
              "    <tr style=\"text-align: right;\">\n",
              "      <th></th>\n",
              "      <th>COMMUNITY_AREA_NUMBER</th>\n",
              "      <th>COMMUNITY_AREA_NAME</th>\n",
              "      <th>PERCENT_OF_HOUSING_CROWDED</th>\n",
              "      <th>PERCENT_HOUSEHOLDS_BELOW_POVERTY</th>\n",
              "      <th>PERCENT_AGED_16__UNEMPLOYED</th>\n",
              "      <th>PERCENT_AGED_25__WITHOUT_HIGH_SCHOOL_DIPLOMA</th>\n",
              "      <th>PERCENT_AGED_UNDER_18_OR_OVER_64</th>\n",
              "      <th>PER_CAPITA_INCOME</th>\n",
              "      <th>HARDSHIP_INDEX</th>\n",
              "    </tr>\n",
              "  </thead>\n",
              "  <tbody>\n",
              "    <tr>\n",
              "      <th>0</th>\n",
              "      <td>1.0</td>\n",
              "      <td>Rogers Park</td>\n",
              "      <td>7.7</td>\n",
              "      <td>23.6</td>\n",
              "      <td>8.7</td>\n",
              "      <td>18.2</td>\n",
              "      <td>27.5</td>\n",
              "      <td>23939</td>\n",
              "      <td>39.0</td>\n",
              "    </tr>\n",
              "    <tr>\n",
              "      <th>1</th>\n",
              "      <td>2.0</td>\n",
              "      <td>West Ridge</td>\n",
              "      <td>7.8</td>\n",
              "      <td>17.2</td>\n",
              "      <td>8.8</td>\n",
              "      <td>20.8</td>\n",
              "      <td>38.5</td>\n",
              "      <td>23040</td>\n",
              "      <td>46.0</td>\n",
              "    </tr>\n",
              "    <tr>\n",
              "      <th>2</th>\n",
              "      <td>3.0</td>\n",
              "      <td>Uptown</td>\n",
              "      <td>3.8</td>\n",
              "      <td>24.0</td>\n",
              "      <td>8.9</td>\n",
              "      <td>11.8</td>\n",
              "      <td>22.2</td>\n",
              "      <td>35787</td>\n",
              "      <td>20.0</td>\n",
              "    </tr>\n",
              "    <tr>\n",
              "      <th>3</th>\n",
              "      <td>4.0</td>\n",
              "      <td>Lincoln Square</td>\n",
              "      <td>3.4</td>\n",
              "      <td>10.9</td>\n",
              "      <td>8.2</td>\n",
              "      <td>13.4</td>\n",
              "      <td>25.5</td>\n",
              "      <td>37524</td>\n",
              "      <td>17.0</td>\n",
              "    </tr>\n",
              "    <tr>\n",
              "      <th>4</th>\n",
              "      <td>5.0</td>\n",
              "      <td>North Center</td>\n",
              "      <td>0.3</td>\n",
              "      <td>7.5</td>\n",
              "      <td>5.2</td>\n",
              "      <td>4.5</td>\n",
              "      <td>26.2</td>\n",
              "      <td>57123</td>\n",
              "      <td>6.0</td>\n",
              "    </tr>\n",
              "  </tbody>\n",
              "</table>\n",
              "</div>\n",
              "      <button class=\"colab-df-convert\" onclick=\"convertToInteractive('df-2ee9c804-1003-494c-b629-44e3a5828699')\"\n",
              "              title=\"Convert this dataframe to an interactive table.\"\n",
              "              style=\"display:none;\">\n",
              "        \n",
              "  <svg xmlns=\"http://www.w3.org/2000/svg\" height=\"24px\"viewBox=\"0 0 24 24\"\n",
              "       width=\"24px\">\n",
              "    <path d=\"M0 0h24v24H0V0z\" fill=\"none\"/>\n",
              "    <path d=\"M18.56 5.44l.94 2.06.94-2.06 2.06-.94-2.06-.94-.94-2.06-.94 2.06-2.06.94zm-11 1L8.5 8.5l.94-2.06 2.06-.94-2.06-.94L8.5 2.5l-.94 2.06-2.06.94zm10 10l.94 2.06.94-2.06 2.06-.94-2.06-.94-.94-2.06-.94 2.06-2.06.94z\"/><path d=\"M17.41 7.96l-1.37-1.37c-.4-.4-.92-.59-1.43-.59-.52 0-1.04.2-1.43.59L10.3 9.45l-7.72 7.72c-.78.78-.78 2.05 0 2.83L4 21.41c.39.39.9.59 1.41.59.51 0 1.02-.2 1.41-.59l7.78-7.78 2.81-2.81c.8-.78.8-2.07 0-2.86zM5.41 20L4 18.59l7.72-7.72 1.47 1.35L5.41 20z\"/>\n",
              "  </svg>\n",
              "      </button>\n",
              "      \n",
              "  <style>\n",
              "    .colab-df-container {\n",
              "      display:flex;\n",
              "      flex-wrap:wrap;\n",
              "      gap: 12px;\n",
              "    }\n",
              "\n",
              "    .colab-df-convert {\n",
              "      background-color: #E8F0FE;\n",
              "      border: none;\n",
              "      border-radius: 50%;\n",
              "      cursor: pointer;\n",
              "      display: none;\n",
              "      fill: #1967D2;\n",
              "      height: 32px;\n",
              "      padding: 0 0 0 0;\n",
              "      width: 32px;\n",
              "    }\n",
              "\n",
              "    .colab-df-convert:hover {\n",
              "      background-color: #E2EBFA;\n",
              "      box-shadow: 0px 1px 2px rgba(60, 64, 67, 0.3), 0px 1px 3px 1px rgba(60, 64, 67, 0.15);\n",
              "      fill: #174EA6;\n",
              "    }\n",
              "\n",
              "    [theme=dark] .colab-df-convert {\n",
              "      background-color: #3B4455;\n",
              "      fill: #D2E3FC;\n",
              "    }\n",
              "\n",
              "    [theme=dark] .colab-df-convert:hover {\n",
              "      background-color: #434B5C;\n",
              "      box-shadow: 0px 1px 3px 1px rgba(0, 0, 0, 0.15);\n",
              "      filter: drop-shadow(0px 1px 2px rgba(0, 0, 0, 0.3));\n",
              "      fill: #FFFFFF;\n",
              "    }\n",
              "  </style>\n",
              "\n",
              "      <script>\n",
              "        const buttonEl =\n",
              "          document.querySelector('#df-2ee9c804-1003-494c-b629-44e3a5828699 button.colab-df-convert');\n",
              "        buttonEl.style.display =\n",
              "          google.colab.kernel.accessAllowed ? 'block' : 'none';\n",
              "\n",
              "        async function convertToInteractive(key) {\n",
              "          const element = document.querySelector('#df-2ee9c804-1003-494c-b629-44e3a5828699');\n",
              "          const dataTable =\n",
              "            await google.colab.kernel.invokeFunction('convertToInteractive',\n",
              "                                                     [key], {});\n",
              "          if (!dataTable) return;\n",
              "\n",
              "          const docLinkHtml = 'Like what you see? Visit the ' +\n",
              "            '<a target=\"_blank\" href=https://colab.research.google.com/notebooks/data_table.ipynb>data table notebook</a>'\n",
              "            + ' to learn more about interactive tables.';\n",
              "          element.innerHTML = '';\n",
              "          dataTable['output_type'] = 'display_data';\n",
              "          await google.colab.output.renderOutput(dataTable, element);\n",
              "          const docLink = document.createElement('div');\n",
              "          docLink.innerHTML = docLinkHtml;\n",
              "          element.appendChild(docLink);\n",
              "        }\n",
              "      </script>\n",
              "    </div>\n",
              "  </div>\n",
              "  "
            ]
          },
          "metadata": {},
          "execution_count": 37
        }
      ]
    },
    {
      "cell_type": "code",
      "source": [
        "df.head()"
      ],
      "metadata": {
        "colab": {
          "base_uri": "https://localhost:8080/",
          "height": 456
        },
        "id": "MQxXeblyyV8S",
        "outputId": "a3f77ef9-2801-446c-9baa-573bddb7c137"
      },
      "execution_count": 38,
      "outputs": [
        {
          "output_type": "execute_result",
          "data": {
            "text/plain": [
              "         ID CASE_NUMBER        DATE                     BLOCK IUCR  \\\n",
              "0   3512276    HK587712  2004-08-28        047XX S KEDZIE AVE  890   \n",
              "1   3406613    HK456306  2004-06-26  009XX N CENTRAL PARK AVE  820   \n",
              "2   8002131    HT233595  2011-04-04        043XX S WABASH AVE  820   \n",
              "3   7903289    HT133522  2010-12-30      083XX S KINGSTON AVE  840   \n",
              "4  10402076    HZ138551  2016-02-02           033XX W 66TH ST  820   \n",
              "\n",
              "  PRIMARY_TYPE                    DESCRIPTION          LOCATION_DESCRIPTION  \\\n",
              "0        THEFT                  FROM BUILDING            SMALL RETAIL STORE   \n",
              "1        THEFT                 $500 AND UNDER                         OTHER   \n",
              "2        THEFT                 $500 AND UNDER  NURSING HOME/RETIREMENT HOME   \n",
              "3        THEFT  FINANCIAL ID THEFT: OVER $300                     RESIDENCE   \n",
              "4        THEFT                 $500 AND UNDER                         ALLEY   \n",
              "\n",
              "   ARREST  DOMESTIC  ...  DISTRICT  WARD  COMMUNITY_AREA_NUMBER  FBICODE  \\\n",
              "0   False     False  ...         9  14.0                   58.0        6   \n",
              "1   False     False  ...        11  27.0                   23.0        6   \n",
              "2   False     False  ...         2   3.0                   38.0        6   \n",
              "3   False     False  ...         4   7.0                   46.0        6   \n",
              "4   False     False  ...         8  15.0                   66.0        6   \n",
              "\n",
              "  X_COORDINATE  Y_COORDINATE  YEAR   LATITUDE  LONGITUDE  \\\n",
              "0    1155838.0     1873050.0  2004  41.807440 -87.703956   \n",
              "1    1152206.0     1906127.0  2004  41.898280 -87.716406   \n",
              "2    1177436.0     1876313.0  2011  41.815933 -87.624642   \n",
              "3    1194622.0     1850125.0  2010  41.743665 -87.562463   \n",
              "4    1155240.0     1860661.0  2016  41.773455 -87.706480   \n",
              "\n",
              "                        LOCATION  \n",
              "0    (41.8074405, -87.703955849)  \n",
              "1  (41.898279962, -87.716405505)  \n",
              "2  (41.815933131, -87.624642127)  \n",
              "3  (41.743665322, -87.562462756)  \n",
              "4  (41.773455295, -87.706480471)  \n",
              "\n",
              "[5 rows x 21 columns]"
            ],
            "text/html": [
              "\n",
              "  <div id=\"df-9aa5d27e-63a7-47ff-b226-ab2d52998502\">\n",
              "    <div class=\"colab-df-container\">\n",
              "      <div>\n",
              "<style scoped>\n",
              "    .dataframe tbody tr th:only-of-type {\n",
              "        vertical-align: middle;\n",
              "    }\n",
              "\n",
              "    .dataframe tbody tr th {\n",
              "        vertical-align: top;\n",
              "    }\n",
              "\n",
              "    .dataframe thead th {\n",
              "        text-align: right;\n",
              "    }\n",
              "</style>\n",
              "<table border=\"1\" class=\"dataframe\">\n",
              "  <thead>\n",
              "    <tr style=\"text-align: right;\">\n",
              "      <th></th>\n",
              "      <th>ID</th>\n",
              "      <th>CASE_NUMBER</th>\n",
              "      <th>DATE</th>\n",
              "      <th>BLOCK</th>\n",
              "      <th>IUCR</th>\n",
              "      <th>PRIMARY_TYPE</th>\n",
              "      <th>DESCRIPTION</th>\n",
              "      <th>LOCATION_DESCRIPTION</th>\n",
              "      <th>ARREST</th>\n",
              "      <th>DOMESTIC</th>\n",
              "      <th>...</th>\n",
              "      <th>DISTRICT</th>\n",
              "      <th>WARD</th>\n",
              "      <th>COMMUNITY_AREA_NUMBER</th>\n",
              "      <th>FBICODE</th>\n",
              "      <th>X_COORDINATE</th>\n",
              "      <th>Y_COORDINATE</th>\n",
              "      <th>YEAR</th>\n",
              "      <th>LATITUDE</th>\n",
              "      <th>LONGITUDE</th>\n",
              "      <th>LOCATION</th>\n",
              "    </tr>\n",
              "  </thead>\n",
              "  <tbody>\n",
              "    <tr>\n",
              "      <th>0</th>\n",
              "      <td>3512276</td>\n",
              "      <td>HK587712</td>\n",
              "      <td>2004-08-28</td>\n",
              "      <td>047XX S KEDZIE AVE</td>\n",
              "      <td>890</td>\n",
              "      <td>THEFT</td>\n",
              "      <td>FROM BUILDING</td>\n",
              "      <td>SMALL RETAIL STORE</td>\n",
              "      <td>False</td>\n",
              "      <td>False</td>\n",
              "      <td>...</td>\n",
              "      <td>9</td>\n",
              "      <td>14.0</td>\n",
              "      <td>58.0</td>\n",
              "      <td>6</td>\n",
              "      <td>1155838.0</td>\n",
              "      <td>1873050.0</td>\n",
              "      <td>2004</td>\n",
              "      <td>41.807440</td>\n",
              "      <td>-87.703956</td>\n",
              "      <td>(41.8074405, -87.703955849)</td>\n",
              "    </tr>\n",
              "    <tr>\n",
              "      <th>1</th>\n",
              "      <td>3406613</td>\n",
              "      <td>HK456306</td>\n",
              "      <td>2004-06-26</td>\n",
              "      <td>009XX N CENTRAL PARK AVE</td>\n",
              "      <td>820</td>\n",
              "      <td>THEFT</td>\n",
              "      <td>$500 AND UNDER</td>\n",
              "      <td>OTHER</td>\n",
              "      <td>False</td>\n",
              "      <td>False</td>\n",
              "      <td>...</td>\n",
              "      <td>11</td>\n",
              "      <td>27.0</td>\n",
              "      <td>23.0</td>\n",
              "      <td>6</td>\n",
              "      <td>1152206.0</td>\n",
              "      <td>1906127.0</td>\n",
              "      <td>2004</td>\n",
              "      <td>41.898280</td>\n",
              "      <td>-87.716406</td>\n",
              "      <td>(41.898279962, -87.716405505)</td>\n",
              "    </tr>\n",
              "    <tr>\n",
              "      <th>2</th>\n",
              "      <td>8002131</td>\n",
              "      <td>HT233595</td>\n",
              "      <td>2011-04-04</td>\n",
              "      <td>043XX S WABASH AVE</td>\n",
              "      <td>820</td>\n",
              "      <td>THEFT</td>\n",
              "      <td>$500 AND UNDER</td>\n",
              "      <td>NURSING HOME/RETIREMENT HOME</td>\n",
              "      <td>False</td>\n",
              "      <td>False</td>\n",
              "      <td>...</td>\n",
              "      <td>2</td>\n",
              "      <td>3.0</td>\n",
              "      <td>38.0</td>\n",
              "      <td>6</td>\n",
              "      <td>1177436.0</td>\n",
              "      <td>1876313.0</td>\n",
              "      <td>2011</td>\n",
              "      <td>41.815933</td>\n",
              "      <td>-87.624642</td>\n",
              "      <td>(41.815933131, -87.624642127)</td>\n",
              "    </tr>\n",
              "    <tr>\n",
              "      <th>3</th>\n",
              "      <td>7903289</td>\n",
              "      <td>HT133522</td>\n",
              "      <td>2010-12-30</td>\n",
              "      <td>083XX S KINGSTON AVE</td>\n",
              "      <td>840</td>\n",
              "      <td>THEFT</td>\n",
              "      <td>FINANCIAL ID THEFT: OVER $300</td>\n",
              "      <td>RESIDENCE</td>\n",
              "      <td>False</td>\n",
              "      <td>False</td>\n",
              "      <td>...</td>\n",
              "      <td>4</td>\n",
              "      <td>7.0</td>\n",
              "      <td>46.0</td>\n",
              "      <td>6</td>\n",
              "      <td>1194622.0</td>\n",
              "      <td>1850125.0</td>\n",
              "      <td>2010</td>\n",
              "      <td>41.743665</td>\n",
              "      <td>-87.562463</td>\n",
              "      <td>(41.743665322, -87.562462756)</td>\n",
              "    </tr>\n",
              "    <tr>\n",
              "      <th>4</th>\n",
              "      <td>10402076</td>\n",
              "      <td>HZ138551</td>\n",
              "      <td>2016-02-02</td>\n",
              "      <td>033XX W 66TH ST</td>\n",
              "      <td>820</td>\n",
              "      <td>THEFT</td>\n",
              "      <td>$500 AND UNDER</td>\n",
              "      <td>ALLEY</td>\n",
              "      <td>False</td>\n",
              "      <td>False</td>\n",
              "      <td>...</td>\n",
              "      <td>8</td>\n",
              "      <td>15.0</td>\n",
              "      <td>66.0</td>\n",
              "      <td>6</td>\n",
              "      <td>1155240.0</td>\n",
              "      <td>1860661.0</td>\n",
              "      <td>2016</td>\n",
              "      <td>41.773455</td>\n",
              "      <td>-87.706480</td>\n",
              "      <td>(41.773455295, -87.706480471)</td>\n",
              "    </tr>\n",
              "  </tbody>\n",
              "</table>\n",
              "<p>5 rows × 21 columns</p>\n",
              "</div>\n",
              "      <button class=\"colab-df-convert\" onclick=\"convertToInteractive('df-9aa5d27e-63a7-47ff-b226-ab2d52998502')\"\n",
              "              title=\"Convert this dataframe to an interactive table.\"\n",
              "              style=\"display:none;\">\n",
              "        \n",
              "  <svg xmlns=\"http://www.w3.org/2000/svg\" height=\"24px\"viewBox=\"0 0 24 24\"\n",
              "       width=\"24px\">\n",
              "    <path d=\"M0 0h24v24H0V0z\" fill=\"none\"/>\n",
              "    <path d=\"M18.56 5.44l.94 2.06.94-2.06 2.06-.94-2.06-.94-.94-2.06-.94 2.06-2.06.94zm-11 1L8.5 8.5l.94-2.06 2.06-.94-2.06-.94L8.5 2.5l-.94 2.06-2.06.94zm10 10l.94 2.06.94-2.06 2.06-.94-2.06-.94-.94-2.06-.94 2.06-2.06.94z\"/><path d=\"M17.41 7.96l-1.37-1.37c-.4-.4-.92-.59-1.43-.59-.52 0-1.04.2-1.43.59L10.3 9.45l-7.72 7.72c-.78.78-.78 2.05 0 2.83L4 21.41c.39.39.9.59 1.41.59.51 0 1.02-.2 1.41-.59l7.78-7.78 2.81-2.81c.8-.78.8-2.07 0-2.86zM5.41 20L4 18.59l7.72-7.72 1.47 1.35L5.41 20z\"/>\n",
              "  </svg>\n",
              "      </button>\n",
              "      \n",
              "  <style>\n",
              "    .colab-df-container {\n",
              "      display:flex;\n",
              "      flex-wrap:wrap;\n",
              "      gap: 12px;\n",
              "    }\n",
              "\n",
              "    .colab-df-convert {\n",
              "      background-color: #E8F0FE;\n",
              "      border: none;\n",
              "      border-radius: 50%;\n",
              "      cursor: pointer;\n",
              "      display: none;\n",
              "      fill: #1967D2;\n",
              "      height: 32px;\n",
              "      padding: 0 0 0 0;\n",
              "      width: 32px;\n",
              "    }\n",
              "\n",
              "    .colab-df-convert:hover {\n",
              "      background-color: #E2EBFA;\n",
              "      box-shadow: 0px 1px 2px rgba(60, 64, 67, 0.3), 0px 1px 3px 1px rgba(60, 64, 67, 0.15);\n",
              "      fill: #174EA6;\n",
              "    }\n",
              "\n",
              "    [theme=dark] .colab-df-convert {\n",
              "      background-color: #3B4455;\n",
              "      fill: #D2E3FC;\n",
              "    }\n",
              "\n",
              "    [theme=dark] .colab-df-convert:hover {\n",
              "      background-color: #434B5C;\n",
              "      box-shadow: 0px 1px 3px 1px rgba(0, 0, 0, 0.15);\n",
              "      filter: drop-shadow(0px 1px 2px rgba(0, 0, 0, 0.3));\n",
              "      fill: #FFFFFF;\n",
              "    }\n",
              "  </style>\n",
              "\n",
              "      <script>\n",
              "        const buttonEl =\n",
              "          document.querySelector('#df-9aa5d27e-63a7-47ff-b226-ab2d52998502 button.colab-df-convert');\n",
              "        buttonEl.style.display =\n",
              "          google.colab.kernel.accessAllowed ? 'block' : 'none';\n",
              "\n",
              "        async function convertToInteractive(key) {\n",
              "          const element = document.querySelector('#df-9aa5d27e-63a7-47ff-b226-ab2d52998502');\n",
              "          const dataTable =\n",
              "            await google.colab.kernel.invokeFunction('convertToInteractive',\n",
              "                                                     [key], {});\n",
              "          if (!dataTable) return;\n",
              "\n",
              "          const docLinkHtml = 'Like what you see? Visit the ' +\n",
              "            '<a target=\"_blank\" href=https://colab.research.google.com/notebooks/data_table.ipynb>data table notebook</a>'\n",
              "            + ' to learn more about interactive tables.';\n",
              "          element.innerHTML = '';\n",
              "          dataTable['output_type'] = 'display_data';\n",
              "          await google.colab.output.renderOutput(dataTable, element);\n",
              "          const docLink = document.createElement('div');\n",
              "          docLink.innerHTML = docLinkHtml;\n",
              "          element.appendChild(docLink);\n",
              "        }\n",
              "      </script>\n",
              "    </div>\n",
              "  </div>\n",
              "  "
            ]
          },
          "metadata": {},
          "execution_count": 38
        }
      ]
    },
    {
      "cell_type": "code",
      "source": [
        "df.info()"
      ],
      "metadata": {
        "id": "4dBhvPVGzAMR",
        "colab": {
          "base_uri": "https://localhost:8080/"
        },
        "outputId": "30c4998a-f171-40b0-bbad-4bf9a3ad45c1"
      },
      "execution_count": 39,
      "outputs": [
        {
          "output_type": "stream",
          "name": "stdout",
          "text": [
            "<class 'pandas.core.frame.DataFrame'>\n",
            "RangeIndex: 533 entries, 0 to 532\n",
            "Data columns (total 21 columns):\n",
            " #   Column                 Non-Null Count  Dtype  \n",
            "---  ------                 --------------  -----  \n",
            " 0   ID                     533 non-null    int64  \n",
            " 1   CASE_NUMBER            533 non-null    object \n",
            " 2   DATE                   533 non-null    object \n",
            " 3   BLOCK                  533 non-null    object \n",
            " 4   IUCR                   533 non-null    object \n",
            " 5   PRIMARY_TYPE           533 non-null    object \n",
            " 6   DESCRIPTION            533 non-null    object \n",
            " 7   LOCATION_DESCRIPTION   533 non-null    object \n",
            " 8   ARREST                 533 non-null    bool   \n",
            " 9   DOMESTIC               533 non-null    bool   \n",
            " 10  BEAT                   533 non-null    int64  \n",
            " 11  DISTRICT               533 non-null    int64  \n",
            " 12  WARD                   490 non-null    float64\n",
            " 13  COMMUNITY_AREA_NUMBER  490 non-null    float64\n",
            " 14  FBICODE                533 non-null    object \n",
            " 15  X_COORDINATE           529 non-null    float64\n",
            " 16  Y_COORDINATE           529 non-null    float64\n",
            " 17  YEAR                   533 non-null    int64  \n",
            " 18  LATITUDE               529 non-null    float64\n",
            " 19  LONGITUDE              529 non-null    float64\n",
            " 20  LOCATION               529 non-null    object \n",
            "dtypes: bool(2), float64(6), int64(4), object(9)\n",
            "memory usage: 80.3+ KB\n"
          ]
        }
      ]
    },
    {
      "cell_type": "code",
      "source": [
        "#Find the total number of crimes recorded in the CRIME table.\n",
        "%sql SELECT COUNT(date) FROM ChicagoCrimeData;"
      ],
      "metadata": {
        "colab": {
          "base_uri": "https://localhost:8080/",
          "height": 97
        },
        "id": "1I4H0xQOxxEZ",
        "outputId": "7c51c6b6-f399-477d-e81c-dc5b1c368f20"
      },
      "execution_count": 40,
      "outputs": [
        {
          "output_type": "stream",
          "name": "stdout",
          "text": [
            " * sqlite:///FinalDB.db\n",
            "Done.\n"
          ]
        },
        {
          "output_type": "execute_result",
          "data": {
            "text/plain": [
              "[(533,)]"
            ],
            "text/html": [
              "<table>\n",
              "    <tr>\n",
              "        <th>COUNT(date)</th>\n",
              "    </tr>\n",
              "    <tr>\n",
              "        <td>533</td>\n",
              "    </tr>\n",
              "</table>"
            ]
          },
          "metadata": {},
          "execution_count": 40
        }
      ]
    },
    {
      "cell_type": "code",
      "source": [
        "#List community areas with per capita income less than 11000.\n",
        "%sql SELECT COMMUNITY_AREA_NAME FROM ChicagoCensusData WHERE PER_CAPITA_INCOME < 11000;\n"
      ],
      "metadata": {
        "id": "qhgnvlH9x8o4",
        "colab": {
          "base_uri": "https://localhost:8080/",
          "height": 162
        },
        "outputId": "78e757f6-9c11-4cf7-ced7-9e820b6dfddd"
      },
      "execution_count": 45,
      "outputs": [
        {
          "output_type": "stream",
          "name": "stdout",
          "text": [
            " * sqlite:///FinalDB.db\n",
            "Done.\n"
          ]
        },
        {
          "output_type": "execute_result",
          "data": {
            "text/plain": [
              "[('West Garfield Park',),\n",
              " ('South Lawndale',),\n",
              " ('Fuller Park',),\n",
              " ('Riverdale',)]"
            ],
            "text/html": [
              "<table>\n",
              "    <tr>\n",
              "        <th>COMMUNITY_AREA_NAME</th>\n",
              "    </tr>\n",
              "    <tr>\n",
              "        <td>West Garfield Park</td>\n",
              "    </tr>\n",
              "    <tr>\n",
              "        <td>South Lawndale</td>\n",
              "    </tr>\n",
              "    <tr>\n",
              "        <td>Fuller Park</td>\n",
              "    </tr>\n",
              "    <tr>\n",
              "        <td>Riverdale</td>\n",
              "    </tr>\n",
              "</table>"
            ]
          },
          "metadata": {},
          "execution_count": 45
        }
      ]
    },
    {
      "cell_type": "code",
      "source": [
        "#List all case numbers for crimes involving minors?(children are not considered minors for the purposes of crime analysis)"
      ],
      "metadata": {
        "id": "afl1SVAy3uKr"
      },
      "execution_count": null,
      "outputs": []
    },
    {
      "cell_type": "code",
      "source": [
        "%sql SELECT CASE_NUMBER FROM ChicagoCrimeData WHERE DESCRIPTION lIKE '%minor%';"
      ],
      "metadata": {
        "colab": {
          "base_uri": "https://localhost:8080/",
          "height": 119
        },
        "id": "XxARpcER4Prx",
        "outputId": "45faca84-63e7-49ac-a471-4f9287ce71c3"
      },
      "execution_count": 52,
      "outputs": [
        {
          "output_type": "stream",
          "name": "stdout",
          "text": [
            " * sqlite:///FinalDB.db\n",
            "Done.\n"
          ]
        },
        {
          "output_type": "execute_result",
          "data": {
            "text/plain": [
              "[('HL266884',), ('HK238408',)]"
            ],
            "text/html": [
              "<table>\n",
              "    <tr>\n",
              "        <th>CASE_NUMBER</th>\n",
              "    </tr>\n",
              "    <tr>\n",
              "        <td>HL266884</td>\n",
              "    </tr>\n",
              "    <tr>\n",
              "        <td>HK238408</td>\n",
              "    </tr>\n",
              "</table>"
            ]
          },
          "metadata": {},
          "execution_count": 52
        }
      ]
    },
    {
      "cell_type": "code",
      "source": [
        "#List all kidnapping crimes involving a child?\n",
        "%sql SELECT CASE_NUMBER FROM ChicagoCrimeData WHERE upper (PRIMARY_TYPE) = 'KIDNAPPING' AND upper(DESCRIPTION) lIKE '%child%';"
      ],
      "metadata": {
        "colab": {
          "base_uri": "https://localhost:8080/",
          "height": 97
        },
        "id": "sg8fWKXf6E_j",
        "outputId": "113d51f5-2052-41e0-cdf7-5a150e90ac6e"
      },
      "execution_count": 55,
      "outputs": [
        {
          "output_type": "stream",
          "name": "stdout",
          "text": [
            " * sqlite:///FinalDB.db\n",
            "Done.\n"
          ]
        },
        {
          "output_type": "execute_result",
          "data": {
            "text/plain": [
              "[('HN144152',)]"
            ],
            "text/html": [
              "<table>\n",
              "    <tr>\n",
              "        <th>CASE_NUMBER</th>\n",
              "    </tr>\n",
              "    <tr>\n",
              "        <td>HN144152</td>\n",
              "    </tr>\n",
              "</table>"
            ]
          },
          "metadata": {},
          "execution_count": 55
        }
      ]
    },
    {
      "cell_type": "code",
      "source": [
        "#What kinds of crimes were recorded at schools?\n",
        "%sql SELECT DISTINCT(PRIMARY_TYPE) FROM ChicagoCrimeData WHERE upper (LOCATION_DESCRIPTION) lIKE '%SCHOOL%';\n"
      ],
      "metadata": {
        "colab": {
          "base_uri": "https://localhost:8080/",
          "height": 204
        },
        "id": "d-AlkDzv7WHU",
        "outputId": "eec24cb8-d4e6-4b14-8c5c-a35a7a0f9f31"
      },
      "execution_count": 58,
      "outputs": [
        {
          "output_type": "stream",
          "name": "stdout",
          "text": [
            " * sqlite:///FinalDB.db\n",
            "Done.\n"
          ]
        },
        {
          "output_type": "execute_result",
          "data": {
            "text/plain": [
              "[('BATTERY',),\n",
              " ('CRIMINAL DAMAGE',),\n",
              " ('NARCOTICS',),\n",
              " ('ASSAULT',),\n",
              " ('CRIMINAL TRESPASS',),\n",
              " ('PUBLIC PEACE VIOLATION',)]"
            ],
            "text/html": [
              "<table>\n",
              "    <tr>\n",
              "        <th>PRIMARY_TYPE</th>\n",
              "    </tr>\n",
              "    <tr>\n",
              "        <td>BATTERY</td>\n",
              "    </tr>\n",
              "    <tr>\n",
              "        <td>CRIMINAL DAMAGE</td>\n",
              "    </tr>\n",
              "    <tr>\n",
              "        <td>NARCOTICS</td>\n",
              "    </tr>\n",
              "    <tr>\n",
              "        <td>ASSAULT</td>\n",
              "    </tr>\n",
              "    <tr>\n",
              "        <td>CRIMINAL TRESPASS</td>\n",
              "    </tr>\n",
              "    <tr>\n",
              "        <td>PUBLIC PEACE VIOLATION</td>\n",
              "    </tr>\n",
              "</table>"
            ]
          },
          "metadata": {},
          "execution_count": 58
        }
      ]
    },
    {
      "cell_type": "code",
      "source": [
        "#List the average safety score for each type of school.\n",
        "%sql SELECT \"Elementary, Middle, High School\" as Type_of_School, AVG(SAFETY_SCORE) as avg_safety_score FROM ChicagoPublicSchoolsData GROUP BY \"Elementary, Middle, High School\" ; "
      ],
      "metadata": {
        "colab": {
          "base_uri": "https://localhost:8080/",
          "height": 97
        },
        "id": "RQuqIOJP8OD3",
        "outputId": "9b51b2e9-6a9d-434f-cc86-08022a5c031e"
      },
      "execution_count": 74,
      "outputs": [
        {
          "output_type": "stream",
          "name": "stdout",
          "text": [
            " * sqlite:///FinalDB.db\n",
            "Done.\n"
          ]
        },
        {
          "output_type": "execute_result",
          "data": {
            "text/plain": [
              "[('Elementary, Middle, High School', 49.50487329434698)]"
            ],
            "text/html": [
              "<table>\n",
              "    <tr>\n",
              "        <th>Type_of_School</th>\n",
              "        <th>avg_safety_score</th>\n",
              "    </tr>\n",
              "    <tr>\n",
              "        <td>Elementary, Middle, High School</td>\n",
              "        <td>49.50487329434698</td>\n",
              "    </tr>\n",
              "</table>"
            ]
          },
          "metadata": {},
          "execution_count": 74
        }
      ]
    },
    {
      "cell_type": "code",
      "source": [
        "#List 5 community areas with highest % of households below poverty line\n",
        "%sql SELECT COMMUNITY_AREA_NAME, PERCENT_HOUSEHOLDS_BELOW_POVERTY  FROM ChicagoCensusData ORDER BY PERCENT_HOUSEHOLDS_BELOW_POVERTY  desc LIMIT 5;"
      ],
      "metadata": {
        "colab": {
          "base_uri": "https://localhost:8080/",
          "height": 183
        },
        "id": "Svhlp30y_0Sx",
        "outputId": "1992720a-7b16-43fe-b11b-903f06f95e15"
      },
      "execution_count": 77,
      "outputs": [
        {
          "output_type": "stream",
          "name": "stdout",
          "text": [
            " * sqlite:///FinalDB.db\n",
            "Done.\n"
          ]
        },
        {
          "output_type": "execute_result",
          "data": {
            "text/plain": [
              "[('Riverdale', 56.5),\n",
              " ('Fuller Park', 51.2),\n",
              " ('Englewood', 46.6),\n",
              " ('North Lawndale', 43.1),\n",
              " ('East Garfield Park', 42.4)]"
            ],
            "text/html": [
              "<table>\n",
              "    <tr>\n",
              "        <th>COMMUNITY_AREA_NAME</th>\n",
              "        <th>PERCENT_HOUSEHOLDS_BELOW_POVERTY</th>\n",
              "    </tr>\n",
              "    <tr>\n",
              "        <td>Riverdale</td>\n",
              "        <td>56.5</td>\n",
              "    </tr>\n",
              "    <tr>\n",
              "        <td>Fuller Park</td>\n",
              "        <td>51.2</td>\n",
              "    </tr>\n",
              "    <tr>\n",
              "        <td>Englewood</td>\n",
              "        <td>46.6</td>\n",
              "    </tr>\n",
              "    <tr>\n",
              "        <td>North Lawndale</td>\n",
              "        <td>43.1</td>\n",
              "    </tr>\n",
              "    <tr>\n",
              "        <td>East Garfield Park</td>\n",
              "        <td>42.4</td>\n",
              "    </tr>\n",
              "</table>"
            ]
          },
          "metadata": {},
          "execution_count": 77
        }
      ]
    },
    {
      "cell_type": "code",
      "source": [
        "#Which community area is most crime prone?\n",
        "%sql SELECT COMMUNITY_AREA_NUMBER, COUNT(ID) as Number_Of_Crime FROM ChicagoCrimeData GROUP BY COMMUNITY_AREA_NUMBER  ORDER BY COUNT(ID) desc LIMIT 1;"
      ],
      "metadata": {
        "colab": {
          "base_uri": "https://localhost:8080/",
          "height": 97
        },
        "id": "dgr_ssDeA9LG",
        "outputId": "72d31193-538f-4f82-f154-4579e29cc5b2"
      },
      "execution_count": 78,
      "outputs": [
        {
          "output_type": "stream",
          "name": "stdout",
          "text": [
            " * sqlite:///FinalDB.db\n",
            "Done.\n"
          ]
        },
        {
          "output_type": "execute_result",
          "data": {
            "text/plain": [
              "[(25.0, 43)]"
            ],
            "text/html": [
              "<table>\n",
              "    <tr>\n",
              "        <th>COMMUNITY_AREA_NUMBER</th>\n",
              "        <th>Number_Of_Crime</th>\n",
              "    </tr>\n",
              "    <tr>\n",
              "        <td>25.0</td>\n",
              "        <td>43</td>\n",
              "    </tr>\n",
              "</table>"
            ]
          },
          "metadata": {},
          "execution_count": 78
        }
      ]
    },
    {
      "cell_type": "code",
      "source": [
        "#Use a sub-query to find the name of the community area with highest hardship index\n",
        "%sql SELECT COMMUNITY_AREA_NAME, HARDSHIP_INDEX FROM ChicagoCensusData WHERE  HARDSHIP_INDEX =(SELECT MAX(HARDSHIP_INDEX) FROM ChicagoCensusData ); \n"
      ],
      "metadata": {
        "colab": {
          "base_uri": "https://localhost:8080/",
          "height": 97
        },
        "id": "USIchyFkBuNw",
        "outputId": "c930ded3-d140-447d-ddac-5f5a25145832"
      },
      "execution_count": 79,
      "outputs": [
        {
          "output_type": "stream",
          "name": "stdout",
          "text": [
            " * sqlite:///FinalDB.db\n",
            "Done.\n"
          ]
        },
        {
          "output_type": "execute_result",
          "data": {
            "text/plain": [
              "[('Riverdale', 98.0)]"
            ],
            "text/html": [
              "<table>\n",
              "    <tr>\n",
              "        <th>COMMUNITY_AREA_NAME</th>\n",
              "        <th>HARDSHIP_INDEX</th>\n",
              "    </tr>\n",
              "    <tr>\n",
              "        <td>Riverdale</td>\n",
              "        <td>98.0</td>\n",
              "    </tr>\n",
              "</table>"
            ]
          },
          "metadata": {},
          "execution_count": 79
        }
      ]
    },
    {
      "cell_type": "code",
      "source": [
        "#Use a sub-query to determine the Community Area Name with most number of crimes?\n",
        "%sql SELECT COMMUNITY_AREA_NAME FROM ChicagoCensusData WHERE COMMUNITY_AREA_NUMBER = (SELECT COMMUNITY_AREA_NUMBER FROM ChicagoCrimeData \n",
        "GROUP BY COMMUNITY_AREA_NUMBER ORDER BY COUNT(ID) DESC LIMIT 1 );\n",
        "\n"
      ],
      "metadata": {
        "colab": {
          "base_uri": "https://localhost:8080/",
          "height": 97
        },
        "id": "oSKwXz4nCUae",
        "outputId": "ee81fea5-0534-419e-8ab0-e34ae98014ab"
      },
      "execution_count": 83,
      "outputs": [
        {
          "output_type": "stream",
          "name": "stdout",
          "text": [
            " * sqlite:///FinalDB.db\n",
            "Done.\n"
          ]
        },
        {
          "output_type": "execute_result",
          "data": {
            "text/plain": [
              "[('Austin',)]"
            ],
            "text/html": [
              "<table>\n",
              "    <tr>\n",
              "        <th>COMMUNITY_AREA_NAME</th>\n",
              "    </tr>\n",
              "    <tr>\n",
              "        <td>Austin</td>\n",
              "    </tr>\n",
              "</table>"
            ]
          },
          "metadata": {},
          "execution_count": 83
        }
      ]
    }
  ]
}